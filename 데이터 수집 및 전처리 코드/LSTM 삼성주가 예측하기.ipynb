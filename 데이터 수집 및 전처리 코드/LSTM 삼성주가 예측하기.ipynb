{
 "cells": [
  {
   "cell_type": "markdown",
   "id": "fe3354ca",
   "metadata": {},
   "source": [
    "# 삼성전자 주가 예측 LSTM"
   ]
  },
  {
   "cell_type": "code",
   "execution_count": 1,
   "id": "67ba828f",
   "metadata": {},
   "outputs": [],
   "source": [
    "import numpy as np\n",
    "import pandas as pd\n",
    "import matplotlib.pyplot as plt"
   ]
  },
  {
   "cell_type": "code",
   "execution_count": 15,
   "id": "23312185",
   "metadata": {},
   "outputs": [
    {
     "data": {
      "text/html": [
       "<div>\n",
       "<style scoped>\n",
       "    .dataframe tbody tr th:only-of-type {\n",
       "        vertical-align: middle;\n",
       "    }\n",
       "\n",
       "    .dataframe tbody tr th {\n",
       "        vertical-align: top;\n",
       "    }\n",
       "\n",
       "    .dataframe thead th {\n",
       "        text-align: right;\n",
       "    }\n",
       "</style>\n",
       "<table border=\"1\" class=\"dataframe\">\n",
       "  <thead>\n",
       "    <tr style=\"text-align: right;\">\n",
       "      <th></th>\n",
       "      <th>Date</th>\n",
       "      <th>Closing Price</th>\n",
       "      <th>Open Price</th>\n",
       "      <th>High</th>\n",
       "      <th>Low</th>\n",
       "      <th>Volume</th>\n",
       "    </tr>\n",
       "  </thead>\n",
       "  <tbody>\n",
       "    <tr>\n",
       "      <th>1</th>\n",
       "      <td>20200106</td>\n",
       "      <td>54900</td>\n",
       "      <td>55600</td>\n",
       "      <td>54600</td>\n",
       "      <td>55500</td>\n",
       "      <td>10278951</td>\n",
       "    </tr>\n",
       "    <tr>\n",
       "      <th>2</th>\n",
       "      <td>20200103</td>\n",
       "      <td>56000</td>\n",
       "      <td>56600</td>\n",
       "      <td>54900</td>\n",
       "      <td>55500</td>\n",
       "      <td>15422255</td>\n",
       "    </tr>\n",
       "    <tr>\n",
       "      <th>3</th>\n",
       "      <td>20200102</td>\n",
       "      <td>55500</td>\n",
       "      <td>56000</td>\n",
       "      <td>55000</td>\n",
       "      <td>55200</td>\n",
       "      <td>12993228</td>\n",
       "    </tr>\n",
       "    <tr>\n",
       "      <th>4</th>\n",
       "      <td>20191230</td>\n",
       "      <td>56200</td>\n",
       "      <td>56600</td>\n",
       "      <td>55700</td>\n",
       "      <td>55800</td>\n",
       "      <td>8356767</td>\n",
       "    </tr>\n",
       "    <tr>\n",
       "      <th>5</th>\n",
       "      <td>20191227</td>\n",
       "      <td>55700</td>\n",
       "      <td>56900</td>\n",
       "      <td>55500</td>\n",
       "      <td>56500</td>\n",
       "      <td>12313056</td>\n",
       "    </tr>\n",
       "    <tr>\n",
       "      <th>...</th>\n",
       "      <td>...</td>\n",
       "      <td>...</td>\n",
       "      <td>...</td>\n",
       "      <td>...</td>\n",
       "      <td>...</td>\n",
       "      <td>...</td>\n",
       "    </tr>\n",
       "    <tr>\n",
       "      <th>246</th>\n",
       "      <td>20190107</td>\n",
       "      <td>38000</td>\n",
       "      <td>38900</td>\n",
       "      <td>37800</td>\n",
       "      <td>38750</td>\n",
       "      <td>12748997</td>\n",
       "    </tr>\n",
       "    <tr>\n",
       "      <th>247</th>\n",
       "      <td>20190104</td>\n",
       "      <td>37450</td>\n",
       "      <td>37600</td>\n",
       "      <td>36850</td>\n",
       "      <td>37450</td>\n",
       "      <td>14108958</td>\n",
       "    </tr>\n",
       "    <tr>\n",
       "      <th>248</th>\n",
       "      <td>20190103</td>\n",
       "      <td>38300</td>\n",
       "      <td>38550</td>\n",
       "      <td>37450</td>\n",
       "      <td>37600</td>\n",
       "      <td>12471493</td>\n",
       "    </tr>\n",
       "    <tr>\n",
       "      <th>249</th>\n",
       "      <td>20190102</td>\n",
       "      <td>39400</td>\n",
       "      <td>39400</td>\n",
       "      <td>38550</td>\n",
       "      <td>38750</td>\n",
       "      <td>7847664</td>\n",
       "    </tr>\n",
       "    <tr>\n",
       "      <th>250</th>\n",
       "      <td>20181228</td>\n",
       "      <td>38250</td>\n",
       "      <td>38900</td>\n",
       "      <td>38200</td>\n",
       "      <td>38700</td>\n",
       "      <td>9900267</td>\n",
       "    </tr>\n",
       "  </tbody>\n",
       "</table>\n",
       "<p>250 rows × 6 columns</p>\n",
       "</div>"
      ],
      "text/plain": [
       "         Date  Closing Price  Open Price   High    Low    Volume\n",
       "1    20200106          54900       55600  54600  55500  10278951\n",
       "2    20200103          56000       56600  54900  55500  15422255\n",
       "3    20200102          55500       56000  55000  55200  12993228\n",
       "4    20191230          56200       56600  55700  55800   8356767\n",
       "5    20191227          55700       56900  55500  56500  12313056\n",
       "..        ...            ...         ...    ...    ...       ...\n",
       "246  20190107          38000       38900  37800  38750  12748997\n",
       "247  20190104          37450       37600  36850  37450  14108958\n",
       "248  20190103          38300       38550  37450  37600  12471493\n",
       "249  20190102          39400       39400  38550  38750   7847664\n",
       "250  20181228          38250       38900  38200  38700   9900267\n",
       "\n",
       "[250 rows x 6 columns]"
      ]
     },
     "execution_count": 15,
     "metadata": {},
     "output_type": "execute_result"
    }
   ],
   "source": [
    "#삼성전자 주가 읽기\n",
    "f = open(\"./data/01-삼성전자-주가.csv\", 'r')\n",
    "#파일 경로 지정\n",
    "samsung = pd.read_csv(f, header = 0)\n",
    "samsung_data = samsung.loc[1:250]\n",
    "samsung_data"
   ]
  },
  {
   "cell_type": "code",
   "execution_count": 16,
   "id": "6654182e",
   "metadata": {},
   "outputs": [
    {
     "name": "stdout",
     "output_type": "stream",
     "text": [
      "데이터 길이: 9288 \n",
      " 앞쪽 5개 값: [[55700]\n",
      " [54900]\n",
      " [56000]\n",
      " [55500]\n",
      " [56200]]\n"
     ]
    }
   ],
   "source": [
    "seq = samsung_data[['Closing Price']].to_numpy()#종가만 취한다. \n",
    "print(\"데이터 길이:\", len(seq), '\\n 앞쪽 5개 값:', seq[0:5])"
   ]
  },
  {
   "cell_type": "code",
   "execution_count": 4,
   "id": "30fe22cc",
   "metadata": {},
   "outputs": [
    {
     "data": {
      "image/png": "[encoded data removed]",
      "text/plain": [
       "<Figure size 432x288 with 1 Axes>"
      ]
     },
     "metadata": {
      "needs_background": "light"
     },
     "output_type": "display_data"
    }
   ],
   "source": [
    "#그래프로 데이터 확인\n",
    "plt.plot(seq, color = 'red')\n",
    "plt.title('samsung')\n",
    "plt.xlabel('Days');plt.ylabel('Price in USD')\n",
    "plt.show()"
   ]
  },
  {
   "cell_type": "code",
   "execution_count": 5,
   "id": "9b6841d3",
   "metadata": {},
   "outputs": [],
   "source": [
    "# 시계열 데이터를 윈도우 단위로 자르는 함수\n",
    "def seq2dataset(seq, window, horizon):\n",
    "    X = []; Y= []\n",
    "    for i in range(len(seq) - (window+horizon)+1):\n",
    "        x = seq[i:(i+window)]\n",
    "        y = (seq[i]+window+horizon-1)\n",
    "        X.append(x)\n",
    "        Y.append(y)\n",
    "    return np.array(X), np.array(Y)"
   ]
  },
  {
   "cell_type": "code",
   "execution_count": 6,
   "id": "dfc0cb57",
   "metadata": {},
   "outputs": [],
   "source": [
    "w = 7 #윈도우 개수\n",
    "h = 1 #수평선 개수\n",
    "\n",
    "X,Y = seq2dataset(seq, w, h)\n",
    "\n",
    "from tensorflow.keras.models import Sequential\n",
    "from tensorflow.keras.layers import Dense, LSTM, Dropout"
   ]
  },
  {
   "cell_type": "code",
   "execution_count": 7,
   "id": "e2d210d4",
   "metadata": {},
   "outputs": [],
   "source": [
    "#훈련 집합과 테스트 집합으로 분할\n",
    "split = int(len(X)*0.7)\n",
    "x_train = X[0:split]; y_train = Y[0:split]\n",
    "x_test = X[split:]; y_test = Y[split:]"
   ]
  },
  {
   "cell_type": "code",
   "execution_count": 9,
   "id": "43c504e6",
   "metadata": {},
   "outputs": [
    {
     "name": "stdout",
     "output_type": "stream",
     "text": [
      "Epoch 1/10\n",
      "6496/6496 - 21s - loss: 608.0731 - mae: 608.0731 - val_loss: 12.8802 - val_mae: 12.8802\n",
      "Epoch 2/10\n",
      "6496/6496 - 29s - loss: 404.0682 - mae: 404.0682 - val_loss: 15.3784 - val_mae: 15.3784\n",
      "Epoch 3/10\n",
      "6496/6496 - 29s - loss: 374.0833 - mae: 374.0833 - val_loss: 24.5122 - val_mae: 24.5122\n",
      "Epoch 4/10\n",
      "6496/6496 - 29s - loss: 374.4272 - mae: 374.4272 - val_loss: 8.0420 - val_mae: 8.0420\n",
      "Epoch 5/10\n",
      "6496/6496 - 29s - loss: 342.0207 - mae: 342.0207 - val_loss: 8.6978 - val_mae: 8.6978\n",
      "Epoch 6/10\n",
      "6496/6496 - 24s - loss: 318.6923 - mae: 318.6923 - val_loss: 11.0098 - val_mae: 11.0098\n",
      "Epoch 7/10\n",
      "6496/6496 - 23s - loss: 311.9427 - mae: 311.9427 - val_loss: 7.7701 - val_mae: 7.7701\n",
      "Epoch 8/10\n",
      "6496/6496 - 28s - loss: 288.2054 - mae: 288.2054 - val_loss: 14.2380 - val_mae: 14.2380\n",
      "Epoch 9/10\n",
      "6496/6496 - 29s - loss: 264.9944 - mae: 264.9944 - val_loss: 6.5933 - val_mae: 6.5933\n",
      "Epoch 10/10\n",
      "6496/6496 - 23s - loss: 265.8208 - mae: 265.8208 - val_loss: 7.0958 - val_mae: 7.0958\n"
     ]
    }
   ],
   "source": [
    "#LSTM 모델 설계와 학습\n",
    "model = Sequential()\n",
    "model.add(LSTM(units = 128, activation = 'relu', input_shape = x_train[0].shape))\n",
    "model.add(Dense(1))\n",
    "model.compile(loss = 'mae', optimizer = 'adam', metrics = ['mae'])\n",
    "hist = model.fit(x_train, y_train, epochs =10, batch_size = 1, validation_data = (x_test, y_test), verbose = 2)"
   ]
  },
  {
   "cell_type": "code",
   "execution_count": 10,
   "id": "0d1ebb42",
   "metadata": {},
   "outputs": [
    {
     "name": "stdout",
     "output_type": "stream",
     "text": [
      "손실 함수: 7.095793724060059 MAE 7.095793724060059\n"
     ]
    },
    {
     "data": {
      "text/plain": [
       "[7.095793724060059, 7.095793724060059]"
      ]
     },
     "execution_count": 10,
     "metadata": {},
     "output_type": "execute_result"
    }
   ],
   "source": [
    "#LSTM 모델 평가\n",
    "ev = model.evaluate(x_test, y_test, verbose = 0)\n",
    "print(\"손실 함수:\", ev[0], \"MAE\", ev[1])\n",
    "ev"
   ]
  },
  {
   "cell_type": "code",
   "execution_count": 11,
   "id": "fb33071a",
   "metadata": {},
   "outputs": [
    {
     "name": "stdout",
     "output_type": "stream",
     "text": [
      "평균절댓값백분율오차(MAPE): [0.01484318]\n"
     ]
    }
   ],
   "source": [
    "#lstm 모델로 예측 수행\n",
    "pred = model.predict(x_test)\n",
    "print(\"평균절댓값백분율오차(MAPE):\", sum(abs(y_test-pred)/y_test)/len(x_test))"
   ]
  },
  {
   "cell_type": "code",
   "execution_count": 12,
   "id": "cf3ed640",
   "metadata": {},
   "outputs": [
    {
     "data": {
      "image/png": "[encoded data removed]",
      "text/plain": [
       "<Figure size 432x288 with 1 Axes>"
      ]
     },
     "metadata": {
      "needs_background": "light"
     },
     "output_type": "display_data"
    }
   ],
   "source": [
    "#학습 곡선\n",
    "plt.plot(hist.history['mae'])\n",
    "plt.plot(hist.history['val_mae'])\n",
    "plt.title('Mdel mae')\n",
    "plt.ylabel('mae')\n",
    "plt.xlabel('Epoch')\n",
    "#plt.ylim([120,800])\n",
    "plt.legend(['Train', 'Validation'], loc = 'best')\n",
    "plt.grid()\n",
    "plt.show()"
   ]
  },
  {
   "cell_type": "code",
   "execution_count": 14,
   "id": "46ac5b21",
   "metadata": {},
   "outputs": [
    {
     "data": {
      "image/png": "[encoded data removed]",
      "text/plain": [
       "<Figure size 432x288 with 1 Axes>"
      ]
     },
     "metadata": {
      "needs_background": "light"
     },
     "output_type": "display_data"
    }
   ],
   "source": [
    "#예측 결과 시각화\n",
    "x_range = range(len(y_test))\n",
    "plt.plot(x_range, y_test[x_range], color = 'red')\n",
    "plt.plot(x_range, pred[x_range], color = 'blue')\n",
    "plt.legend(['True prices', 'Predicted prices'], loc = 'best')\n",
    "plt.grid()\n",
    "plt.show()"
   ]
  }
 ],
 "metadata": {
  "kernelspec": {
   "display_name": "Python 3",
   "language": "python",
   "name": "python3"
  },
  "language_info": {
   "codemirror_mode": {
    "name": "ipython",
    "version": 3
   },
   "file_extension": ".py",
   "mimetype": "text/x-python",
   "name": "python",
   "nbconvert_exporter": "python",
   "pygments_lexer": "ipython3",
   "version": "3.8.8"
  }
 },
 "nbformat": 4,
 "nbformat_minor": 5
}
