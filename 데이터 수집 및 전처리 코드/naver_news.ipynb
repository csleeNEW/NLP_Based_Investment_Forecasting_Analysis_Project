{
 "cells": [
  {
   "cell_type": "markdown",
   "id": "76b09c8a",
   "metadata": {},
   "source": [
    "# 순서"
   ]
  },
  {
   "cell_type": "markdown",
   "id": "3c4aa35f",
   "metadata": {},
   "source": [
    "### 1. module import 및 driver option 설정"
   ]
  },
  {
   "cell_type": "markdown",
   "id": "7dc7b3ad",
   "metadata": {},
   "source": [
    "### 2. 뉴스 url 크롤링"
   ]
  },
  {
   "cell_type": "markdown",
   "id": "612bcf29",
   "metadata": {},
   "source": [
    "### 3. 뉴스 title, date, content 스크래핑"
   ]
  },
  {
   "cell_type": "code",
   "execution_count": 2,
   "id": "072c959c",
   "metadata": {
    "scrolled": true
   },
   "outputs": [
    {
     "name": "stdout",
     "output_type": "stream",
     "text": [
      "궁금한 종목을 입력 해주세요!: 삼성SDI\n",
      "urls: \n"
     ]
    },
    {
     "name": "stderr",
     "output_type": "stream",
     "text": [
      "<ipython-input-2-eabadfa38d65>:39: TqdmDeprecationWarning: This function will be removed in tqdm==5.0.0\n",
      "Please use `tqdm.notebook.tqdm` instead of `tqdm.tqdm_notebook`\n",
      "  for i in tqdm_notebook(press):\n"
     ]
    },
    {
     "data": {
      "application/vnd.jupyter.widget-view+json": {
       "model_id": "c9bd3e04b6d94799a97d3fc25df016a3",
       "version_major": 2,
       "version_minor": 0
      },
      "text/plain": [
       "  0%|          | 0/8 [00:00<?, ?it/s]"
      ]
     },
     "metadata": {},
     "output_type": "display_data"
    },
    {
     "name": "stderr",
     "output_type": "stream",
     "text": [
      "<ipython-input-2-eabadfa38d65>:43: DeprecationWarning: use options instead of chrome_options\n",
      "  driver = webdriver.Chrome('./chromedriver.exe', chrome_options=options)\n"
     ]
    },
    {
     "name": "stdout",
     "output_type": "stream",
     "text": [
      "매일경제 저장완료\n",
      "머니투데이 저장완료\n",
      "서울경제 저장완료\n",
      "아시아경제 저장완료\n",
      "이데일리 저장완료\n",
      "파이낸셜뉴스 저장완료\n",
      "한국경제 저장완료\n",
      "헤럴드경제 저장완료\n",
      "\n",
      "url 스크래핑 완료\n",
      "\n",
      "contents: \n"
     ]
    },
    {
     "name": "stderr",
     "output_type": "stream",
     "text": [
      "<ipython-input-2-eabadfa38d65>:64: TqdmDeprecationWarning: This function will be removed in tqdm==5.0.0\n",
      "Please use `tqdm.notebook.tqdm` instead of `tqdm.tqdm_notebook`\n",
      "  for t in tqdm_notebook(press):\n"
     ]
    },
    {
     "data": {
      "application/vnd.jupyter.widget-view+json": {
       "model_id": "baf02190eb5a4de1a3c86578be259672",
       "version_major": 2,
       "version_minor": 0
      },
      "text/plain": [
       "  0%|          | 0/8 [00:10<?, ?it/s]"
      ]
     },
     "metadata": {},
     "output_type": "display_data"
    },
    {
     "name": "stderr",
     "output_type": "stream",
     "text": [
      "<ipython-input-2-eabadfa38d65>:75: DeprecationWarning: use options instead of chrome_options\n",
      "  driver = webdriver.Chrome(\"./chromedriver.exe\", chrome_options=options)\n"
     ]
    },
    {
     "name": "stdout",
     "output_type": "stream",
     "text": [
      "매일경제 저장완료\n",
      "머니투데이 저장완료\n",
      "서울경제 저장완료\n",
      "아시아경제 저장완료\n",
      "이데일리 저장완료\n",
      "파이낸셜뉴스 저장완료\n",
      "한국경제 저장완료\n",
      "헤럴드경제 저장완료\n",
      "\n",
      "본문 스크래핑 완료\n"
     ]
    }
   ],
   "source": [
    "from tqdm import tqdm_notebook\n",
    "import pandas as pd\n",
    "from IPython.display import clear_output\n",
    "import requests\n",
    "from selenium import webdriver\n",
    "from selenium.common.exceptions import NoSuchElementException\n",
    "import os\n",
    "\n",
    "options = webdriver.ChromeOptions()\n",
    "options.add_argument('headless')  # 크롬 브라우저 팝업 뜨는 거 안보이게 해줌 ㅎㅎ\n",
    "options.add_argument('window-size=1920x1080') # 하라는데 왜 했는 지 모르겠습니다.\n",
    "options.add_argument(\"disable-gpu\") # 브라우저 띄울 때 gpu 쓰는 거 막아줘서 속도 향상\n",
    "options.add_argument(\"user-agent=Mozilla/5.0 (Macintosh; Intel Mac OS X 10_12_6) AppleWebKit/537.36 (KHTML, like Gecko) Chrome/61.0.3163.100 Safari/537.36\")\n",
    "# headless 모드를 감지하지 못하게 함\n",
    "\n",
    "\n",
    "press = {\n",
    "    '매일경제' : 1009,\n",
    "    '머니투데이' : 1008,\n",
    "    '서울경제' : 1011,\n",
    "    '아시아경제' : 1277,\n",
    "    '이데일리' : 1018,\n",
    "    '파이낸셜뉴스' : 1014,\n",
    "    '한국경제' : 1015, \n",
    "    '헤럴드경제' : 1016\n",
    "}             # 다른 언론사 코드 궁금하면 네이버 뉴스에서 언론사 하나씩 선택해보면서 url주소 checked 뒤에 있는 숫자 확인\n",
    "\n",
    "search_keyword = input('궁금한 종목을 입력 해주세요!: ') #종목 입력 (다른거 기사 궁금하면 다른거 입력해서 해도 됨)\n",
    "\n",
    "if not os.path.isdir('urls'):                                                           \n",
    "    os.mkdir('urls')\n",
    "if not os.path.isdir('contents'): \n",
    "    os.mkdir('contents')\n",
    "# 경로 잡아주기\n",
    "\n",
    "\n",
    "# url 주소를 저장할 리스트 생성\n",
    "print('urls: ')\n",
    "for i in tqdm_notebook(press):\n",
    "    url_list = []\n",
    "    for page in range(1, 11, 10):\n",
    "        site = 'https://search.naver.com/search.naver?where=news&sm=tab_pge&query='+search_keyword+'&sort=1&photo=0&field=0&pd=3&ds=2020.06.01&de=2021.06.30&mynews=1&office_type=1&office_section_code=3&news_office_checked='+str(press.get(i))+'&nso=so:dd,p:from20200601to20210630,a:all&start='+str(page)\n",
    "        driver = webdriver.Chrome('./chromedriver.exe', chrome_options=options)\n",
    "        driver.get(site)\n",
    "        # 뉴스 url 수집하기\n",
    "        things = driver.find_elements_by_link_text('네이버뉴스')  \n",
    "        \n",
    "        for thing in things:\n",
    "            url = thing.get_attribute('href')\n",
    "            url_list.append(url)\n",
    "\n",
    "        driver.close()\n",
    "    df = pd.DataFrame({\"url\":url_list})\n",
    "    df.to_csv('urls/'+search_keyword+'_'+i+'_urls.csv')\n",
    "    print(i+\" 저장완료\")\n",
    "    \n",
    "print('')\n",
    "print('url 스크래핑 완료')\n",
    "print('')\n",
    "\n",
    "\n",
    "print('contents: ')\n",
    "\n",
    "for t in tqdm_notebook(press):\n",
    "    \n",
    "    df = pd.read_csv('urls/'+search_keyword+'_'+t+'_urls.csv')\n",
    "    urls=df.url[:]\n",
    "    data_dict = {\n",
    "    'date' : [],\n",
    "    'title' : [],\n",
    "    'contents' : []\n",
    "}\n",
    "    \n",
    "    for i in range(len(urls)):\n",
    "        driver = webdriver.Chrome(\"./chromedriver.exe\", chrome_options=options)\n",
    "        driver.get(df['url'][i])\n",
    "\n",
    "        # 기사 시간 스크랩\n",
    "        try:\n",
    "            driver.find_element_by_css_selector('.t11').click()\n",
    "            data_dict['date'].append(driver.find_element_by_css_selector('.t11').text.strip())\n",
    "        except NoSuchElementException:\n",
    "            pass\n",
    "        \n",
    "        # 기사 제목 스크랩\n",
    "        try:\n",
    "            driver.find_element_by_css_selector('.tts_head').click()\n",
    "            data_dict['title'].append(driver.find_element_by_css_selector('.tts_head').text.strip())\n",
    "        except NoSuchElementException:\n",
    "            pass\n",
    "        \n",
    "        # 기사 내용 스크랩\n",
    "        try:\n",
    "            driver.find_element_by_css_selector('.tts_head').click()\n",
    "            data_dict['contents'].append(driver.find_element_by_css_selector('._article_body_contents').text.strip())\n",
    "        except NoSuchElementException:\n",
    "            pass\n",
    "\n",
    "        driver.close()\n",
    "\n",
    "    df1=pd.DataFrame(data_dict)\n",
    "    df1.to_csv('contents/'+search_keyword+'_'+t+'_news_contents.csv', encoding='utf-8-sig', index=False)\n",
    "    print(t+\" 저장완료\")\n",
    "\n",
    "print('')\n",
    "print('본문 스크래핑 완료')"
   ]
  },
  {
   "cell_type": "code",
   "execution_count": 12,
   "id": "0c15e804",
   "metadata": {},
   "outputs": [
    {
     "name": "stdout",
     "output_type": "stream",
     "text": [
      "궁금한 종목을 입력 해주세요!: lg화학\n"
     ]
    },
    {
     "name": "stderr",
     "output_type": "stream",
     "text": [
      "<ipython-input-12-1d89f3b4eea9>:3: DeprecationWarning: use options instead of chrome_options\n",
      "  driver = webdriver.Chrome('./chromedriver.exe', chrome_options=options)\n"
     ]
    },
    {
     "data": {
      "text/plain": [
       "10"
      ]
     },
     "execution_count": 12,
     "metadata": {},
     "output_type": "execute_result"
    }
   ],
   "source": [
    "search_keyword = input('궁금한 종목을 입력 해주세요!: ')\n",
    "site = 'https://search.naver.com/search.naver?where=news&sm=tab_pge&query='+search_keyword+'&sort=1&photo=0&field=0&pd=3&ds=2020.06.01&de=2021.06.30&mynews=1&office_type=1&office_section_code=3&news_office_checked=1018&nso=so:dd,p:from20200601to20210630,a:all&start=1'\n",
    "driver = webdriver.Chrome('./chromedriver.exe', chrome_options=options)\n",
    "driver.get(site)\n",
    "# 뉴스 url 수집하기\n",
    "things = driver.find_elements_by_link_text('네이버뉴스')\n",
    "len(things)"
   ]
  },
  {
   "cell_type": "code",
   "execution_count": 14,
   "id": "08719eec",
   "metadata": {},
   "outputs": [
    {
     "name": "stderr",
     "output_type": "stream",
     "text": [
      "<ipython-input-14-6246a6a6b26b>:1: TqdmDeprecationWarning: This function will be removed in tqdm==5.0.0\n",
      "Please use `tqdm.notebook.tqdm` instead of `tqdm.tqdm_notebook`\n",
      "  for i in tqdm_notebook(press):\n"
     ]
    },
    {
     "data": {
      "application/vnd.jupyter.widget-view+json": {
       "model_id": "e3f7286a25494cdc9d8586bafa8aef79",
       "version_major": 2,
       "version_minor": 0
      },
      "text/plain": [
       "  0%|          | 0/8 [00:00<?, ?it/s]"
      ]
     },
     "metadata": {},
     "output_type": "display_data"
    },
    {
     "name": "stderr",
     "output_type": "stream",
     "text": [
      "<ipython-input-14-6246a6a6b26b>:5: DeprecationWarning: use options instead of chrome_options\n",
      "  driver = webdriver.Chrome('./chromedriver.exe', chrome_options=options)\n"
     ]
    },
    {
     "data": {
      "text/plain": [
       "10"
      ]
     },
     "execution_count": 14,
     "metadata": {},
     "output_type": "execute_result"
    }
   ],
   "source": [
    "for i in tqdm_notebook(press):\n",
    "    url_list = []\n",
    "    for page in range(1, 31, 10):\n",
    "        site = 'https://search.naver.com/search.naver?where=news&sm=tab_pge&query='+search_keyword+'&sort=1&photo=0&field=0&pd=3&ds=2020.06.01&de=2021.06.30&mynews=1&office_type=1&office_section_code=3&news_office_checked='+str(press.get(i))+'&nso=so:dd,p:from20200601to20210630,a:all&start='+str(page)\n",
    "        driver = webdriver.Chrome('./chromedriver.exe', chrome_options=options)\n",
    "        driver.get(site)\n",
    "        # 뉴스 url 수집하기\n",
    "        things = driver.find_elements_by_link_text('네이버뉴스')\n",
    "        for thing in things:\n",
    "            url = thing.get_attribute('href')\n",
    "            url_list.append(url)\n",
    "\n",
    "        driver.close()\n",
    "        \n",
    "len(things)"
   ]
  },
  {
   "cell_type": "code",
   "execution_count": null,
   "id": "f9e9ef22",
   "metadata": {},
   "outputs": [],
   "source": []
  }
 ],
 "metadata": {
  "kernelspec": {
   "display_name": "Python 3",
   "language": "python",
   "name": "python3"
  },
  "language_info": {
   "codemirror_mode": {
    "name": "ipython",
    "version": 3
   },
   "file_extension": ".py",
   "mimetype": "text/x-python",
   "name": "python",
   "nbconvert_exporter": "python",
   "pygments_lexer": "ipython3",
   "version": "3.8.10"
  }
 },
 "nbformat": 4,
 "nbformat_minor": 5
}
