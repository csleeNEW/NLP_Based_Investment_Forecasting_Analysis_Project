{
 "cells": [
  {
   "cell_type": "markdown",
   "id": "76b09c8a",
   "metadata": {},
   "source": [
    "# 순서"
   ]
  },
  {
   "cell_type": "markdown",
   "id": "3c4aa35f",
   "metadata": {},
   "source": [
    "### 1. module import 및 driver option 설정"
   ]
  },
  {
   "cell_type": "markdown",
   "id": "7dc7b3ad",
   "metadata": {},
   "source": [
    "### 2. 뉴스 url 크롤링"
   ]
  },
  {
   "cell_type": "markdown",
   "id": "612bcf29",
   "metadata": {},
   "source": [
    "### 3. 뉴스 title, date, content 스크래핑"
   ]
  },
  {
   "cell_type": "code",
   "execution_count": 28,
   "id": "072c959c",
   "metadata": {
    "scrolled": true
   },
   "outputs": [
    {
     "name": "stdout",
     "output_type": "stream",
     "text": [
      "궁금한 종목을 입력 해주세요!: 애플\n",
      "urls: \n"
     ]
    },
    {
     "data": {
      "application/vnd.jupyter.widget-view+json": {
       "model_id": "15d2477ef51549a3aa118ab8f55927c6",
       "version_major": 2,
       "version_minor": 0
      },
      "text/plain": [
       "  0%|          | 0/8 [00:00<?, ?it/s]"
      ]
     },
     "metadata": {},
     "output_type": "display_data"
    },
    {
     "name": "stderr",
     "output_type": "stream",
     "text": [
      "<ipython-input-28-5c39df692bf6>:43: DeprecationWarning: use options instead of chrome_options\n",
      "  driver = webdriver.Chrome('./chromedriver.exe', chrome_options=options)\n"
     ]
    },
    {
     "name": "stdout",
     "output_type": "stream",
     "text": [
      "매일경제 저장완료\n",
      "머니투데이 저장완료\n",
      "서울경제 저장완료\n",
      "아시아경제 저장완료\n",
      "아주경제 저장완료\n",
      "파이낸셜뉴스 저장완료\n",
      "한국경제 저장완료\n",
      "헤럴드경제 저장완료\n",
      "\n",
      "url 스크래핑 완료\n",
      "\n",
      "contents: \n"
     ]
    },
    {
     "data": {
      "application/vnd.jupyter.widget-view+json": {
       "model_id": "236f50b17a6f4715b028126e43ae0dd5",
       "version_major": 2,
       "version_minor": 0
      },
      "text/plain": [
       "  0%|          | 0/8 [00:10<?, ?it/s]"
      ]
     },
     "metadata": {},
     "output_type": "display_data"
    },
    {
     "name": "stderr",
     "output_type": "stream",
     "text": [
      "<ipython-input-28-5c39df692bf6>:75: DeprecationWarning: use options instead of chrome_options\n",
      "  driver = webdriver.Chrome(\"./chromedriver.exe\", chrome_options=options)\n"
     ]
    },
    {
     "name": "stdout",
     "output_type": "stream",
     "text": [
      "매일경제 저장완료\n",
      "머니투데이 저장완료\n",
      "서울경제 저장완료\n",
      "아시아경제 저장완료\n",
      "아주경제 저장완료\n",
      "파이낸셜뉴스 저장완료\n",
      "한국경제 저장완료\n",
      "헤럴드경제 저장완료\n",
      "\n",
      "본문 스크래핑 완료\n"
     ]
    }
   ],
   "source": [
    "from tqdm import notebook\n",
    "import pandas as pd\n",
    "from IPython.display import clear_output\n",
    "import requests\n",
    "from selenium import webdriver\n",
    "from selenium.common.exceptions import NoSuchElementException\n",
    "import os\n",
    "\n",
    "options = webdriver.ChromeOptions()\n",
    "options.add_argument('headless')  # 크롬 브라우저 팝업 뜨는 거 안보이게 해줌 ㅎㅎ\n",
    "options.add_argument('window-size=1920x1080') # 하라는데 왜 했는 지 모르겠습니다.\n",
    "options.add_argument(\"disable-gpu\") # 브라우저 띄울 때 gpu 쓰는 거 막아줘서 속도 향상\n",
    "\n",
    "\n",
    "\n",
    "press = {\n",
    "    '매일경제' : 1009,\n",
    "    '머니투데이' : 1008,\n",
    "    '서울경제' : 1011,\n",
    "    '아시아경제' : 1277,\n",
    "    '아주경제' : 2090,\n",
    "    '파이낸셜뉴스' : 1014,\n",
    "    '한국경제' : 1015, \n",
    "    '헤럴드경제' : 1016\n",
    "}             # 다른 언론사 코드 궁금하면 네이버 뉴스에서 언론사 하나씩 선택해보면서 url주소 checked 뒤에 있는 숫자 확인\n",
    "\n",
    "search_keyword = input('궁금한 종목을 입력 해주세요!: ') #종목 입력 (다른거 기사 궁금하면 다른거 입력해서 해도 됨)\n",
    "\n",
    "if not os.path.isdir('urls'):                                                           \n",
    "    os.mkdir('urls')\n",
    "if not os.path.isdir('contents'): \n",
    "    os.mkdir('contents')\n",
    "# 경로 잡아주기\n",
    "\n",
    "\n",
    "# url 주소를 저장할 리스트 생성\n",
    "print('urls: ')\n",
    "for i in notebook.tqdm(press):\n",
    "    url_list = []\n",
    "    \n",
    "    for page in range(1, 11, 10):\n",
    "        site = 'https://search.naver.com/search.naver?where=news&sm=tab_pge&query='+search_keyword+'&sort=1&photo=0&field=0&pd=3&ds=2020.06.01&de=2021.06.30&mynews=1&office_type=1&office_section_code=3&news_office_checked='+str(press.get(i))+'&nso=so:dd,p:from20200601to20210630,a:all&start='+str(page)\n",
    "        driver = webdriver.Chrome('./chromedriver.exe', chrome_options=options)\n",
    "        driver.get(site)\n",
    "        # 뉴스 url 수집하기\n",
    "        things = driver.find_elements_by_link_text('네이버뉴스')  \n",
    "        \n",
    "        for thing in things:\n",
    "            url = thing.get_attribute('href')\n",
    "            url_list.append(url)\n",
    "\n",
    "        driver.close()\n",
    "    df = pd.DataFrame({\"url\":url_list})\n",
    "    df.to_csv('urls/'+search_keyword+'_'+i+'_urls.csv')\n",
    "    print(i+\" 저장완료\")\n",
    "    \n",
    "print('')\n",
    "print('url 스크래핑 완료')\n",
    "print('')\n",
    "\n",
    "\n",
    "print('contents: ')\n",
    "\n",
    "for t in notebook.tqdm(press):\n",
    "    \n",
    "    df = pd.read_csv('urls/'+search_keyword+'_'+t+'_urls.csv')\n",
    "    urls=df.url[:]\n",
    "    data_dict = {\n",
    "    'date' : [],\n",
    "    'title' : [],\n",
    "    'contents' : []\n",
    "}\n",
    "    \n",
    "    for i in range(len(urls)):\n",
    "        driver = webdriver.Chrome(\"./chromedriver.exe\", chrome_options=options)\n",
    "        driver.get(df['url'][i])\n",
    "\n",
    "        # 기사 시간 스크랩\n",
    "        try:\n",
    "            driver.find_element_by_css_selector('.t11').click()\n",
    "            data_dict['date'].append(driver.find_element_by_css_selector('.t11').text.strip())\n",
    "        except NoSuchElementException:\n",
    "            pass\n",
    "        \n",
    "        # 기사 제목 스크랩\n",
    "        try:\n",
    "            driver.find_element_by_css_selector('.tts_head').click()\n",
    "            data_dict['title'].append(driver.find_element_by_css_selector('.tts_head').text.strip())\n",
    "        except NoSuchElementException:\n",
    "            pass\n",
    "        \n",
    "        # 기사 내용 스크랩\n",
    "        try:\n",
    "            driver.find_element_by_css_selector('.tts_head').click()\n",
    "            data_dict['contents'].append(driver.find_element_by_css_selector('._article_body_contents').text.strip())\n",
    "        except NoSuchElementException:\n",
    "            pass\n",
    "\n",
    "        driver.close()\n",
    "\n",
    "    df1=pd.DataFrame(data_dict)\n",
    "    df1.to_csv('contents/'+search_keyword+'_'+t+'_news_contents.csv', encoding='utf-8-sig', index=False)\n",
    "    print(t+\" 저장완료\")\n",
    "\n",
    "print('')\n",
    "print('본문 스크래핑 완료')"
   ]
  },
  {
   "cell_type": "code",
   "execution_count": 27,
   "id": "0c15e804",
   "metadata": {},
   "outputs": [
    {
     "data": {
      "text/html": [
       "<div>\n",
       "<style scoped>\n",
       "    .dataframe tbody tr th:only-of-type {\n",
       "        vertical-align: middle;\n",
       "    }\n",
       "\n",
       "    .dataframe tbody tr th {\n",
       "        vertical-align: top;\n",
       "    }\n",
       "\n",
       "    .dataframe thead th {\n",
       "        text-align: right;\n",
       "    }\n",
       "</style>\n",
       "<table border=\"1\" class=\"dataframe\">\n",
       "  <thead>\n",
       "    <tr style=\"text-align: right;\">\n",
       "      <th></th>\n",
       "      <th>date</th>\n",
       "      <th>title</th>\n",
       "      <th>contents</th>\n",
       "    </tr>\n",
       "  </thead>\n",
       "  <tbody>\n",
       "    <tr>\n",
       "      <th>0</th>\n",
       "      <td>2021.06.29. 오후 5:40</td>\n",
       "      <td>이달에도 매도일색 국민연금 이 종목은 담았다</td>\n",
       "      <td>6월 보유종목 비중 분석\\n\\n하반기 車수요 증가 전망에\\n현대위아·SNT모티브 등...</td>\n",
       "    </tr>\n",
       "    <tr>\n",
       "      <th>1</th>\n",
       "      <td>2021.06.28. 오후 5:45</td>\n",
       "      <td>배터리·백신 설비에 1조 투자땐 1000억 세금감면</td>\n",
       "      <td>신성장 기술에 稅혜택\\n\\n생산시설 투자 공제율 확대\\n대기업 R&amp;D 공제도 40%...</td>\n",
       "    </tr>\n",
       "    <tr>\n",
       "      <th>2</th>\n",
       "      <td>2021.06.27. 오후 5:40</td>\n",
       "      <td>\"올해에만 24조 사들였는데 수익률 -2.2%\" 개미 삼성전자에 울었다…카카오는 9...</td>\n",
       "      <td>상반기 개인 순매수 톱10 분석\\n\\n삼성전자 순매수 24조원 1위\\n수익률 작년 ...</td>\n",
       "    </tr>\n",
       "    <tr>\n",
       "      <th>3</th>\n",
       "      <td>2021.06.26. 오전 11:02</td>\n",
       "      <td>\"라이벌 대만 의식?\"...삼성전자 SK하이닉스 직원 '모더나' 맞는다 [위클리반도체]</td>\n",
       "      <td>인천국제공항을 통해 이달 하순 국내에 들어온 모더나 코로나 19 백신. [연합뉴스]...</td>\n",
       "    </tr>\n",
       "    <tr>\n",
       "      <th>4</th>\n",
       "      <td>2021.06.25. 오후 5:35</td>\n",
       "      <td>삼성 임직원, 내달 27일 모더나 백신 자체 접종…협력사 직원 포함</td>\n",
       "      <td>만18~59세·협력사직원 포함\\n현대차·SK이노베이션 조율중\\n\\n삼성전자, 현대자...</td>\n",
       "    </tr>\n",
       "    <tr>\n",
       "      <th>5</th>\n",
       "      <td>2021.06.25. 오후 2:11</td>\n",
       "      <td>시민단체 7곳 \"공정위, 삼성웰스토리 부당지원 추가 고발해야\"</td>\n",
       "      <td>\"책임자·계열사에 '솜방망이' 처벌\"\\n일감몰아주기는 공정위 전속고발제 대상\\n\"중...</td>\n",
       "    </tr>\n",
       "    <tr>\n",
       "      <th>6</th>\n",
       "      <td>2021.06.24. 오후 9:12</td>\n",
       "      <td>카카오 네이버가 다했네…코스피 이달 시총 증가 40% 차지</td>\n",
       "      <td>23일 카카오와 NAVER는 각각 16만9500원, 42만3500원으로 신고가를 기...</td>\n",
       "    </tr>\n",
       "    <tr>\n",
       "      <th>7</th>\n",
       "      <td>2021.06.24. 오후 5:47</td>\n",
       "      <td>공정위, 삼성에 2349억원 과징금</td>\n",
       "      <td>급식 몰아준 삼성전자 檢고발\\n계열사 급식 100% 수의계약\\n삼성 \"복지를 부당지...</td>\n",
       "    </tr>\n",
       "    <tr>\n",
       "      <th>8</th>\n",
       "      <td>2021.06.24. 오후 5:43</td>\n",
       "      <td>삼성 \"매출 1조 웰스토리가 그룹 자금줄이라니\" 공정위 제재 반박</td>\n",
       "      <td>공정위 역대 최대 과징금에 삼성 \"행정소송 나설것\"\\n\\n\"年 1천억 영업익 웰스토...</td>\n",
       "    </tr>\n",
       "    <tr>\n",
       "      <th>9</th>\n",
       "      <td>2021.06.24. 오후 1:55</td>\n",
       "      <td>\"직원 식사 잘 준 것 뿐\"…삼성, 공정위 2천억 과징금 행정소송 예고</td>\n",
       "      <td>[사진 = 이충우 기자]\\n삼성웰스토리에 계열사 급식 물량을 물어줘 공정거래위원회로...</td>\n",
       "    </tr>\n",
       "  </tbody>\n",
       "</table>\n",
       "</div>"
      ],
      "text/plain": [
       "                   date                                              title  \\\n",
       "0   2021.06.29. 오후 5:40                           이달에도 매도일색 국민연금 이 종목은 담았다   \n",
       "1   2021.06.28. 오후 5:45                       배터리·백신 설비에 1조 투자땐 1000억 세금감면   \n",
       "2   2021.06.27. 오후 5:40  \"올해에만 24조 사들였는데 수익률 -2.2%\" 개미 삼성전자에 울었다…카카오는 9...   \n",
       "3  2021.06.26. 오전 11:02   \"라이벌 대만 의식?\"...삼성전자 SK하이닉스 직원 '모더나' 맞는다 [위클리반도체]   \n",
       "4   2021.06.25. 오후 5:35              삼성 임직원, 내달 27일 모더나 백신 자체 접종…협력사 직원 포함   \n",
       "5   2021.06.25. 오후 2:11                 시민단체 7곳 \"공정위, 삼성웰스토리 부당지원 추가 고발해야\"   \n",
       "6   2021.06.24. 오후 9:12                   카카오 네이버가 다했네…코스피 이달 시총 증가 40% 차지   \n",
       "7   2021.06.24. 오후 5:47                                공정위, 삼성에 2349억원 과징금   \n",
       "8   2021.06.24. 오후 5:43               삼성 \"매출 1조 웰스토리가 그룹 자금줄이라니\" 공정위 제재 반박   \n",
       "9   2021.06.24. 오후 1:55            \"직원 식사 잘 준 것 뿐\"…삼성, 공정위 2천억 과징금 행정소송 예고   \n",
       "\n",
       "                                            contents  \n",
       "0  6월 보유종목 비중 분석\\n\\n하반기 車수요 증가 전망에\\n현대위아·SNT모티브 등...  \n",
       "1  신성장 기술에 稅혜택\\n\\n생산시설 투자 공제율 확대\\n대기업 R&D 공제도 40%...  \n",
       "2  상반기 개인 순매수 톱10 분석\\n\\n삼성전자 순매수 24조원 1위\\n수익률 작년 ...  \n",
       "3  인천국제공항을 통해 이달 하순 국내에 들어온 모더나 코로나 19 백신. [연합뉴스]...  \n",
       "4  만18~59세·협력사직원 포함\\n현대차·SK이노베이션 조율중\\n\\n삼성전자, 현대자...  \n",
       "5  \"책임자·계열사에 '솜방망이' 처벌\"\\n일감몰아주기는 공정위 전속고발제 대상\\n\"중...  \n",
       "6  23일 카카오와 NAVER는 각각 16만9500원, 42만3500원으로 신고가를 기...  \n",
       "7  급식 몰아준 삼성전자 檢고발\\n계열사 급식 100% 수의계약\\n삼성 \"복지를 부당지...  \n",
       "8  공정위 역대 최대 과징금에 삼성 \"행정소송 나설것\"\\n\\n\"年 1천억 영업익 웰스토...  \n",
       "9  [사진 = 이충우 기자]\\n삼성웰스토리에 계열사 급식 물량을 물어줘 공정거래위원회로...  "
      ]
     },
     "execution_count": 27,
     "metadata": {},
     "output_type": "execute_result"
    }
   ],
   "source": [
    "df=pd.read_csv('contents/삼성SDI_매일경제_news_contents.csv',encoding='utf-8-sig')\n",
    "df"
   ]
  },
  {
   "cell_type": "code",
   "execution_count": null,
   "id": "9ed587c1",
   "metadata": {},
   "outputs": [],
   "source": []
  }
 ],
 "metadata": {
  "kernelspec": {
   "display_name": "Python 3",
   "language": "python",
   "name": "python3"
  },
  "language_info": {
   "codemirror_mode": {
    "name": "ipython",
    "version": 3
   },
   "file_extension": ".py",
   "mimetype": "text/x-python",
   "name": "python",
   "nbconvert_exporter": "python",
   "pygments_lexer": "ipython3",
   "version": "3.8.10"
  }
 },
 "nbformat": 4,
 "nbformat_minor": 5
}
